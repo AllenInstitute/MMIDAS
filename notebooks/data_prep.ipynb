{
 "cells": [
  {
   "cell_type": "markdown",
   "metadata": {},
   "source": [
    "### Preparing the data\n",
    "In this notebook, we demonstrate how to prepare the Mouse Smart-seq dataset, which is a single-cell dataset was released as part of a transcriptomic cell types study in [Tasic et al., 2018](https://portal.brain-map.org/atlases-and-data/rnaseq/mouse-v1-and-alm-smart-seq). The dataset includes RNA sequencing of neurons from the anterolateral motor cortex (ALM) and primary visual cortex (VISp) regions of adult mice using Smart-seq (SSv4) platform. "
   ]
  },
  {
   "cell_type": "code",
   "execution_count": 1,
   "metadata": {},
   "outputs": [],
   "source": [
    "import os, sys\n",
    "import scipy.io as sio\n",
    "import pandas as pd\n",
    "import numpy as np\n",
    "import matplotlib.pyplot as plt\n",
    "%matplotlib inline"
   ]
  },
  {
   "cell_type": "code",
   "execution_count": 2,
   "metadata": {},
   "outputs": [],
   "source": [
    "# Import modules\n",
    "module_path = '/Users/yeganeh.marghi/github/MMIDAS/'\n",
    "sys.path.insert(0, module_path)\n",
    "from utils.tree_based_analysis import get_merged_types\n",
    "from utils.analysis_cells_tree import HTree\n",
    "from utils.config import load_config\n",
    "from utils.data_tools import normalize_cellxgene\n"
   ]
  },
  {
   "cell_type": "markdown",
   "metadata": {},
   "source": [
    "Download ```zip``` files and place them the data folder. There should be a ```config.toml```,  which is a global configuration file containing following paths:\n",
    "\n",
    "\n",
    "* ```package_dir='xxx'```\n",
    "* ```data_path='xxx'```"
   ]
  },
  {
   "cell_type": "code",
   "execution_count": 3,
   "metadata": {},
   "outputs": [],
   "source": [
    "paths = load_config(config_file='config.toml')\n",
    "data_path = paths['package_dir'] / paths['data_path']"
   ]
  },
  {
   "cell_type": "code",
   "execution_count": 4,
   "metadata": {},
   "outputs": [
    {
     "name": "stdout",
     "output_type": "stream",
     "text": [
      "Total number of cells in VISp and ALM: 15413, 10068\n"
     ]
    }
   ],
   "source": [
    "# Load the mouse Smart-seq VISp data\n",
    "data_VISp_exon = data_path / 'mouse_VISp_2018-06-14_exon-matrix.csv'\n",
    "anno_VISp = data_path / 'mouse_VISp_2018-06-14_samples-columns.csv'\n",
    "df_vis_exon = pd.read_csv(data_VISp_exon)\n",
    "df_vis_anno = pd.read_csv(anno_VISp, encoding='unicode_escape')\n",
    "\n",
    "# Load the mouse Smart-seq ALM data\n",
    "data_ALM_exon = data_path / 'mouse_ALM_2018-06-14_exon-matrix.csv'\n",
    "anno_ALM = data_path / 'mouse_ALM_2018-06-14_samples-columns.csv'\n",
    "df_alm_exon = pd.read_csv(data_ALM_exon)\n",
    "df_alm_anno = pd.read_csv(anno_ALM, encoding='unicode_escape')\n",
    "\n",
    "print(f'Total number of cells in VISp and ALM: {len(df_vis_anno)}, {len(df_alm_anno)}')"
   ]
  },
  {
   "cell_type": "code",
   "execution_count": 5,
   "metadata": {},
   "outputs": [
    {
     "name": "stdout",
     "output_type": "stream",
     "text": [
      "[30890.15859407 34090.13980254 35085.63428565 ... 34077.15380524\n",
      " 31090.81791427 35629.482184  ]\n"
     ]
    }
   ],
   "source": [
    "# Get the neuronal cells across brain regions\n",
    "vis_neuron = df_vis_anno['class'].isin(['GABAergic', 'Glutamatergic'])\n",
    "alm_neuron = df_alm_anno['class'].isin(['GABAergic', 'Glutamatergic'])\n",
    "vis_counts = df_vis_exon.values[:, 1:][:, vis_neuron].T\n",
    "alm_counts = df_alm_exon.values[:, 1:][:, alm_neuron].T\n",
    "\n",
    "df_anno = pd.concat([df_vis_anno[vis_neuron], df_alm_anno[alm_neuron]], ignore_index=True)\n",
    "total_count = np.concatenate((vis_counts, alm_counts), axis=0)\n",
    "\n",
    "# Normalized counts values using LogCPM\n",
    "logCPM = np.log1p(normalize_cellxgene(total_count) * 1e6)\n",
    "\n",
    "print(np.sum(logCPM, axis=1))"
   ]
  },
  {
   "cell_type": "code",
   "execution_count": 8,
   "metadata": {},
   "outputs": [
    {
     "name": "stdout",
     "output_type": "stream",
     "text": [
      "      gene_symbol    gene_id chromosome  gene_entrez_id  \\\n",
      "41530      Sssca1  500741647         19           56390   \n",
      "41531         Sst  500737291         16           20604   \n",
      "41532       Sstr1  500729687         12           20605   \n",
      "41533       Sstr2  500728684         11           20606   \n",
      "41534       Sstr3  500736064         15           20607   \n",
      "41535       Sstr4  500704969          2           20608   \n",
      "41536       Sstr5  500738797         17           20609   \n",
      "41537       Ssty1  500745186          Y           20611   \n",
      "41538       Ssty2  500745340          Y           70009   \n",
      "41539        Ssu2  500714992          6          243612   \n",
      "41540       Ssu72  500710656          4           68991   \n",
      "41541      Ssx2ip  500707937          3           99167   \n",
      "41542        Ssx9  500742933          X          382206   \n",
      "41543       Ssxa1  500743112          X          385338   \n",
      "41544       Ssxb1  500742924          X           67985   \n",
      "41545      Ssxb10  500742922          X          385312   \n",
      "41546       Ssxb2  500742925          X          387132   \n",
      "41547       Ssxb3  500742928          X          278174   \n",
      "41548       Ssxb5  500742934          X          387586   \n",
      "41549       Ssxb6  500742927          X          668976   \n",
      "\n",
      "                                               gene_name  \n",
      "41530  Sjogren''s syndrome/scleroderma autoantigen 1 ...  \n",
      "41531                                       somatostatin  \n",
      "41532                            somatostatin receptor 1  \n",
      "41533                            somatostatin receptor 2  \n",
      "41534                            somatostatin receptor 3  \n",
      "41535                            somatostatin receptor 4  \n",
      "41536                            somatostatin receptor 5  \n",
      "41537      spermiogenesis specific transcript on the Y 1  \n",
      "41538      spermiogenesis specific transcript on the Y 2  \n",
      "41539                         ssu-2 homolog (C. elegans)  \n",
      "41540  Ssu72 RNA polymerase II CTD phosphatase homolo...  \n",
      "41541  synovial sarcoma, X breakpoint 2 interacting p...  \n",
      "41542                   synovial sarcoma, X breakpoint 9  \n",
      "41543         synovial sarcoma, X member A, breakpoint 1  \n",
      "41544         synovial sarcoma, X member B, breakpoint 1  \n",
      "41545        synovial sarcoma, X member B, breakpoint 10  \n",
      "41546         synovial sarcoma, X member B, breakpoint 2  \n",
      "41547         synovial sarcoma, X member B, breakpoint 3  \n",
      "41548         synovial sarcoma, X member B, breakpoint 5  \n",
      "41549         synovial sarcoma, X member B, breakpoint 6  \n",
      "----------------------------------------------------------------------------------------------------\n",
      "Total number of genes: 45768, Number of selected genes: 5032\n"
     ]
    }
   ],
   "source": [
    "# list of all genes in the dataset\n",
    "ref_gene_file = data_path / 'mouse_ALM_2018-06-14_genes-rows.csv'\n",
    "\n",
    "# selected genes for mouse Smart-seq data analysis\n",
    "slc_gene_file = data_path / 'genes_SS_VISp_ALM.csv'\n",
    "\n",
    "ref_genes_df = pd.read_csv(ref_gene_file)\n",
    "slc_gene_df = pd.read_csv(slc_gene_file)\n",
    "\n",
    "print(ref_genes_df[41530:41550])\n",
    "print('-'*100)\n",
    "print(f'Total number of genes: {len(ref_genes_df)}, Number of selected genes: {len(slc_gene_df)}')"
   ]
  },
  {
   "cell_type": "markdown",
   "metadata": {},
   "source": [
    "Filter out genes that were not selected, as well as two categories of cells: low quality cells, and those belonging to ```CR``` and ```Meis2``` subclasses."
   ]
  },
  {
   "cell_type": "code",
   "execution_count": 11,
   "metadata": {},
   "outputs": [
    {
     "name": "stdout",
     "output_type": "stream",
     "text": [
      "final shape of normalized gene expresion matix: (22365, 5032)\n"
     ]
    }
   ],
   "source": [
    "# select genes\n",
    "genes = slc_gene_df.genes.values\n",
    "gene_indx = [np.where(ref_genes_df.gene_symbol.values == gg)[0][0] for gg in genes]\n",
    "log1p = logCPM[:, gene_indx]\n",
    "\n",
    "# remove low quality cells and those belonging to the subclasses 'CR' and 'Meis2'.\n",
    "mask = (df_anno['cluster']!='Low Quality') & (~df_anno['subclass'].isin(['CR', 'Meis2']))\n",
    "df_anno = df_anno[mask].reset_index() \n",
    "log1p = log1p[mask, :]\n",
    "\n",
    "print(f'final shape of normalized gene expresion matix: {log1p.shape}')"
   ]
  },
  {
   "cell_type": "markdown",
   "metadata": {},
   "source": [
    "Build a data dictionaty for the Smart-seq dataloader. "
   ]
  },
  {
   "cell_type": "code",
   "execution_count": 17,
   "metadata": {},
   "outputs": [],
   "source": [
    "# load the tree.csv to obtain colors for t-types on the taxonomies\n",
    "htree_file = data_path / 'tree.csv'\n",
    "treeObj = HTree(htree_file=htree_file)\n",
    "ttypes = treeObj.child[treeObj.isleaf]\n",
    "colors = treeObj.col[treeObj.isleaf]\n",
    "\n",
    "# build a data dictionary for the dataloader\n",
    "data = df_anno[['subclass', 'cluster']].to_dict('list')\n",
    "data['gene_id'] = genes\n",
    "data['log1p'] = log1p\n",
    "data['sample_id'] = df_anno.seq_name.values\n",
    "data['class_label'] = df_anno['class'].values\n",
    "data['cluster_color'] = np.array([colors[0]]*len(data['cluster']))\n",
    "\n",
    "for cluster in df_anno.cluster.unique():\n",
    "    c_idx = np.where(data['cluster'] == cluster)\n",
    "    data['cluster_color'][c_idx] = colors[ttypes == cluster]\n"
   ]
  }
 ],
 "metadata": {
  "kernelspec": {
   "display_name": "tf14-cpu",
   "language": "python",
   "name": "tf14-cpu"
  },
  "language_info": {
   "codemirror_mode": {
    "name": "ipython",
    "version": 3
   },
   "file_extension": ".py",
   "mimetype": "text/x-python",
   "name": "python",
   "nbconvert_exporter": "python",
   "pygments_lexer": "ipython3",
   "version": "3.7.16"
  },
  "orig_nbformat": 4
 },
 "nbformat": 4,
 "nbformat_minor": 2
}
